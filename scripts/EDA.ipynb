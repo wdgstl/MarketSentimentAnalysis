{
 "cells": [
  {
   "cell_type": "markdown",
   "metadata": {},
   "source": [
    "length of article summaries by word count"
   ]
  },
  {
   "cell_type": "markdown",
   "metadata": {},
   "source": [
    "length of article summaries by character count"
   ]
  },
  {
   "cell_type": "markdown",
   "metadata": {},
   "source": [
    "most frequently occurring words (top 10)"
   ]
  },
  {
   "cell_type": "markdown",
   "metadata": {},
   "source": [
    "numbers of articles per day"
   ]
  },
  {
   "cell_type": "code",
   "execution_count": 8,
   "metadata": {},
   "outputs": [],
   "source": [
    "import pandas as pd\n",
    "\n",
    "df_prices = pd.read_csv(\"../data/prices_data.csv\")"
   ]
  },
  {
   "cell_type": "code",
   "execution_count": 9,
   "metadata": {},
   "outputs": [
    {
     "data": {
      "text/html": [
       "<div>\n",
       "<style scoped>\n",
       "    .dataframe tbody tr th:only-of-type {\n",
       "        vertical-align: middle;\n",
       "    }\n",
       "\n",
       "    .dataframe tbody tr th {\n",
       "        vertical-align: top;\n",
       "    }\n",
       "\n",
       "    .dataframe thead th {\n",
       "        text-align: right;\n",
       "    }\n",
       "</style>\n",
       "<table border=\"1\" class=\"dataframe\">\n",
       "  <thead>\n",
       "    <tr style=\"text-align: right;\">\n",
       "      <th></th>\n",
       "      <th>date</th>\n",
       "      <th>price</th>\n",
       "    </tr>\n",
       "  </thead>\n",
       "  <tbody>\n",
       "    <tr>\n",
       "      <th>0</th>\n",
       "      <td>2025-01-06 00:00:00-05:00</td>\n",
       "      <td>148.59</td>\n",
       "    </tr>\n",
       "    <tr>\n",
       "      <th>1</th>\n",
       "      <td>2025-01-07 00:00:00-05:00</td>\n",
       "      <td>153.03</td>\n",
       "    </tr>\n",
       "    <tr>\n",
       "      <th>2</th>\n",
       "      <td>2025-01-08 00:00:00-05:00</td>\n",
       "      <td>142.58</td>\n",
       "    </tr>\n",
       "    <tr>\n",
       "      <th>3</th>\n",
       "      <td>2025-01-10 00:00:00-05:00</td>\n",
       "      <td>137.45</td>\n",
       "    </tr>\n",
       "    <tr>\n",
       "      <th>4</th>\n",
       "      <td>2025-01-13 00:00:00-05:00</td>\n",
       "      <td>129.99</td>\n",
       "    </tr>\n",
       "    <tr>\n",
       "      <th>5</th>\n",
       "      <td>2025-01-14 00:00:00-05:00</td>\n",
       "      <td>136.05</td>\n",
       "    </tr>\n",
       "    <tr>\n",
       "      <th>6</th>\n",
       "      <td>2025-01-15 00:00:00-05:00</td>\n",
       "      <td>133.65</td>\n",
       "    </tr>\n",
       "    <tr>\n",
       "      <th>7</th>\n",
       "      <td>2025-01-16 00:00:00-05:00</td>\n",
       "      <td>138.64</td>\n",
       "    </tr>\n",
       "    <tr>\n",
       "      <th>8</th>\n",
       "      <td>2025-01-17 00:00:00-05:00</td>\n",
       "      <td>136.69</td>\n",
       "    </tr>\n",
       "    <tr>\n",
       "      <th>9</th>\n",
       "      <td>2025-01-21 00:00:00-05:00</td>\n",
       "      <td>139.16</td>\n",
       "    </tr>\n",
       "    <tr>\n",
       "      <th>10</th>\n",
       "      <td>2025-01-22 00:00:00-05:00</td>\n",
       "      <td>144.66</td>\n",
       "    </tr>\n",
       "    <tr>\n",
       "      <th>11</th>\n",
       "      <td>2025-01-23 00:00:00-05:00</td>\n",
       "      <td>145.05</td>\n",
       "    </tr>\n",
       "    <tr>\n",
       "      <th>12</th>\n",
       "      <td>2025-01-24 00:00:00-05:00</td>\n",
       "      <td>148.37</td>\n",
       "    </tr>\n",
       "    <tr>\n",
       "      <th>13</th>\n",
       "      <td>2025-01-27 00:00:00-05:00</td>\n",
       "      <td>124.80</td>\n",
       "    </tr>\n",
       "    <tr>\n",
       "      <th>14</th>\n",
       "      <td>2025-01-28 00:00:00-05:00</td>\n",
       "      <td>121.81</td>\n",
       "    </tr>\n",
       "    <tr>\n",
       "      <th>15</th>\n",
       "      <td>2025-01-29 00:00:00-05:00</td>\n",
       "      <td>126.50</td>\n",
       "    </tr>\n",
       "    <tr>\n",
       "      <th>16</th>\n",
       "      <td>2025-01-30 00:00:00-05:00</td>\n",
       "      <td>123.10</td>\n",
       "    </tr>\n",
       "    <tr>\n",
       "      <th>17</th>\n",
       "      <td>2025-01-31 00:00:00-05:00</td>\n",
       "      <td>123.78</td>\n",
       "    </tr>\n",
       "  </tbody>\n",
       "</table>\n",
       "</div>"
      ],
      "text/plain": [
       "                         date   price\n",
       "0   2025-01-06 00:00:00-05:00  148.59\n",
       "1   2025-01-07 00:00:00-05:00  153.03\n",
       "2   2025-01-08 00:00:00-05:00  142.58\n",
       "3   2025-01-10 00:00:00-05:00  137.45\n",
       "4   2025-01-13 00:00:00-05:00  129.99\n",
       "5   2025-01-14 00:00:00-05:00  136.05\n",
       "6   2025-01-15 00:00:00-05:00  133.65\n",
       "7   2025-01-16 00:00:00-05:00  138.64\n",
       "8   2025-01-17 00:00:00-05:00  136.69\n",
       "9   2025-01-21 00:00:00-05:00  139.16\n",
       "10  2025-01-22 00:00:00-05:00  144.66\n",
       "11  2025-01-23 00:00:00-05:00  145.05\n",
       "12  2025-01-24 00:00:00-05:00  148.37\n",
       "13  2025-01-27 00:00:00-05:00  124.80\n",
       "14  2025-01-28 00:00:00-05:00  121.81\n",
       "15  2025-01-29 00:00:00-05:00  126.50\n",
       "16  2025-01-30 00:00:00-05:00  123.10\n",
       "17  2025-01-31 00:00:00-05:00  123.78"
      ]
     },
     "execution_count": 9,
     "metadata": {},
     "output_type": "execute_result"
    }
   ],
   "source": [
    "df_prices"
   ]
  },
  {
   "cell_type": "code",
   "execution_count": 21,
   "metadata": {},
   "outputs": [
    {
     "name": "stderr",
     "output_type": "stream",
     "text": [
      "/var/folders/df/8zbylny96ss0x8q0rhq6rk0c0000gn/T/ipykernel_3158/3317576291.py:10: UserWarning: No artists with labels found to put in legend.  Note that artists whose label start with an underscore are ignored when legend() is called with no argument.\n",
      "  plt.legend()\n"
     ]
    },
    {
     "data": {
      "image/png": "[encoded data removed]",
      "text/plain": [
       "<Figure size 640x480 with 1 Axes>"
      ]
     },
     "metadata": {},
     "output_type": "display_data"
    }
   ],
   "source": [
    "import matplotlib.pyplot as plt\n",
    "\n",
    "plt.plot(df_prices[\"date\"], df_prices[\"price\"], marker='o', linestyle='-', color='b', \n",
    "         markerfacecolor='green', markeredgecolor='black', markersize=8)\n",
    "plt.xlabel(\"Dates\")\n",
    "plt.ylabel(\"Opening Price (USD)\")\n",
    "plt.title(\"NVIDIA Opening Prices (Jan 2025)\")\n",
    "plt.xticks([])\n",
    "\n",
    "plt.legend()\n",
    "\n",
    "plt.show()\n"
   ]
  }
 ],
 "metadata": {
  "kernelspec": {
   "display_name": "base",
   "language": "python",
   "name": "python3"
  },
  "language_info": {
   "codemirror_mode": {
    "name": "ipython",
    "version": 3
   },
   "file_extension": ".py",
   "mimetype": "text/x-python",
   "name": "python",
   "nbconvert_exporter": "python",
   "pygments_lexer": "ipython3",
   "version": "3.13.1"
  }
 },
 "nbformat": 4,
 "nbformat_minor": 2
}
