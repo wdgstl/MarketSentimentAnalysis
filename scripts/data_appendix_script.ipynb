{
 "cells": [
  {
   "cell_type": "markdown",
   "metadata": {},
   "source": [
    "missing values"
   ]
  },
  {
   "cell_type": "markdown",
   "metadata": {},
   "source": [
    "summary stat"
   ]
  },
  {
   "cell_type": "code",
   "execution_count": null,
   "metadata": {},
   "outputs": [
    {
     "name": "stdout",
     "output_type": "stream",
     "text": [
      "count     18.000000\n",
      "mean     136.327778\n",
      "std        9.682519\n",
      "min      121.810000\n",
      "25%      127.372500\n",
      "50%      137.070000\n",
      "75%      144.140000\n",
      "max      153.030000\n",
      "Name: price, dtype: float64\n"
     ]
    }
   ],
   "source": [
    "### Summary statistics for stock price data\n",
    "\n",
    "import pandas as pd\n",
    "\n",
    "df = pd.read_csv('../data/prices_data.csv')\n",
    "\n",
    "summary_stats = df['price'].describe()\n",
    "print(summary_stats)"
   ]
  },
  {
   "cell_type": "code",
   "execution_count": null,
   "metadata": {},
   "outputs": [
    {
     "name": "stdout",
     "output_type": "stream",
     "text": [
      "count     18.000000\n",
      "mean     136.327778\n",
      "std        9.682519\n",
      "min      121.810000\n",
      "25%      127.372500\n",
      "50%      137.070000\n",
      "75%      144.140000\n",
      "max      153.030000\n",
      "Name: price, dtype: float64\n"
     ]
    }
   ],
   "source": [
    "df = pd.read_csv('../data/price_data_processed.csv')\n",
    "\n",
    "summary_stats = df['price'].describe()\n",
    "print(summary_stats)"
   ]
  },
  {
   "cell_type": "markdown",
   "metadata": {},
   "source": [
    "histogram"
   ]
  },
  {
   "cell_type": "markdown",
   "metadata": {},
   "source": [
    "frequency table"
   ]
  }
 ],
 "metadata": {
  "kernelspec": {
   "display_name": "base",
   "language": "python",
   "name": "python3"
  },
  "language_info": {
   "codemirror_mode": {
    "name": "ipython",
    "version": 3
   },
   "file_extension": ".py",
   "mimetype": "text/x-python",
   "name": "python",
   "nbconvert_exporter": "python",
   "pygments_lexer": "ipython3",
   "version": "3.11.5"
  }
 },
 "nbformat": 4,
 "nbformat_minor": 2
}
