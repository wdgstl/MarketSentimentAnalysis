{
 "cells": [
  {
   "cell_type": "markdown",
   "metadata": {},
   "source": [
    "length of article summaries by word count"
   ]
  },
  {
   "cell_type": "markdown",
   "metadata": {},
   "source": [
    "length of article summaries by character count"
   ]
  },
  {
   "cell_type": "markdown",
   "metadata": {},
   "source": [
    "most frequently occurring words (top 10)"
   ]
  },
  {
   "cell_type": "markdown",
   "metadata": {},
   "source": [
    "numbers of articles per day"
   ]
  }
 ],
 "metadata": {
  "kernelspec": {
   "display_name": "base",
   "language": "python",
   "name": "python3"
  },
  "language_info": {
   "name": "python",
   "version": "3.11.5"
  }
 },
 "nbformat": 4,
 "nbformat_minor": 2
}
